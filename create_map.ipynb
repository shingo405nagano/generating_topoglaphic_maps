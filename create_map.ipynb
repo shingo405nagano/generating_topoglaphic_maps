{
 "cells": [
  {
   "cell_type": "markdown",
   "metadata": {},
   "source": [
    "# Imports"
   ]
  },
  {
   "cell_type": "code",
   "execution_count": 4,
   "metadata": {},
   "outputs": [],
   "source": [
    "import os\n",
    "import copy\n",
    "from PIL import Image\n",
    "from typing import List\n",
    "\n",
    "from osgeo import gdal\n",
    "from matplotlib import pyplot as plt\n",
    "import numpy as np\n",
    "import seaborn as sns\n",
    "import scipy.ndimage\n",
    "gdal.UseExceptions()\n",
    "\n",
    "from apps.colors import Blue2RedColorMaps, Coloring\n",
    "from apps.parts import process\n",
    "from apps.mapper import (\n",
    "    SlopeOptions, TriOptions, TpiOptions, HillshadeOptions\n",
    ")\n",
    "from apps.kernels import Kernels\n",
    "\n",
    "b2r_cmaps = Blue2RedColorMaps()\n",
    "coloring = Coloring()"
   ]
  },
  {
   "cell_type": "code",
   "execution_count": 7,
   "metadata": {},
   "outputs": [
    {
     "name": "stdout",
     "output_type": "stream",
     "text": [
      "<apps.colors.Blue2RedColorMaps object at 0x0000016FFA4838F0>\n"
     ]
    }
   ],
   "source": []
  },
  {
   "cell_type": "markdown",
   "metadata": {},
   "source": [
    "# Argments"
   ]
  },
  {
   "cell_type": "code",
   "execution_count": 2,
   "metadata": {},
   "outputs": [],
   "source": [
    "dirname = r'./datasets/'\n",
    "INPUT_FILE = os.path.join(dirname, 'DTM_Kouchi__R5M.tif')\n",
    "SELECTED_MAP = 'CS立体図風'\n",
    "OUTPUT_FILE = os.path.join(dirname, 'CS_Map__R0_5M.tif')\n",
    "\n",
    "org_dst = gdal.Open(INPUT_FILE)\n",
    "\n",
    "\n",
    "# Extend options\n",
    "# Slope Options\n",
    "slope_options = SlopeOptions(\n",
    "    checked=True,\n",
    "    resampling=False,\n",
    "    resolution=10,\n",
    "    cmap=cs_cmaps.slope().colors_255,\n",
    ")\n",
    "\n",
    "# Topographic Position Index Options\n",
    "tpi_options = TpiOptions(\n",
    "    checked=True,\n",
    "    one_side_distance=20.0,\n",
    "    kernel_type='Doughnut',\n",
    "    outlier_treatment=True,\n",
    "    sigma=.0,\n",
    "    threshold=1.5,\n",
    "    cmap=cs_cmaps.tpi().colors_255,\n",
    ")\n",
    "\n",
    "# Terrain Ruggedness Index Options\n",
    "tri_options = TriOptions(\n",
    "    checked=True,\n",
    "    outlier_treatment=True,\n",
    "    threshold=1.5,\n",
    "    cmap=cs_cmaps.tri().colors_255,\n",
    ")\n",
    "\n",
    "# Hillshade Options\n",
    "hillshade_options = HillshadeOptions(\n",
    "    checked=True,\n",
    "    hillshade_type=1,\n",
    "    azimuth=315,\n",
    "    altitude=45,\n",
    "    z_factor=1.5,\n",
    "    combined=True,\n",
    "    cmap=cs_cmaps.hillshade().colors_255,\n",
    ")\n"
   ]
  },
  {
   "cell_type": "code",
   "execution_count": 3,
   "metadata": {},
   "outputs": [
    {
     "name": "stderr",
     "output_type": "stream",
     "text": [
      "d:\\Repositories\\ProcessingRaster\\apps\\colors.py:205: RuntimeWarning: invalid value encountered in cast\n",
      "  return scaled.astype('uint8')\n"
     ]
    }
   ],
   "source": [
    "slope_ary = slope_options.to_slope(org_dst)\n",
    "slope_img = coloring.styling(slope_ary, slope_options.cmap)\n",
    "slope_img = Image.fromarray(slope_img)"
   ]
  },
  {
   "cell_type": "code",
   "execution_count": 4,
   "metadata": {},
   "outputs": [],
   "source": [
    "tpi_ary = tpi_options.to_tpi(org_dst)\n",
    "tpi_img = coloring.styling(tpi_ary, tpi_options.cmap)\n",
    "tpi_img = Image.fromarray(tpi_img)"
   ]
  },
  {
   "cell_type": "code",
   "execution_count": 5,
   "metadata": {},
   "outputs": [],
   "source": [
    "tri = tri_options.to_tri(org_dst)\n",
    "tri_img = coloring.styling(tri, tri_options.cmap)\n",
    "tri_img = Image.fromarray(tri_img)"
   ]
  },
  {
   "cell_type": "code",
   "execution_count": 6,
   "metadata": {},
   "outputs": [],
   "source": [
    "hillshade_ary = hillshade_options.to_hillshade(org_dst)\n",
    "hillshade_img = coloring.styling(hillshade_ary, hillshade_options.cmap)\n",
    "hillshade_img = Image.fromarray(hillshade_img)"
   ]
  },
  {
   "cell_type": "code",
   "execution_count": 7,
   "metadata": {},
   "outputs": [],
   "source": [
    "composite_img = Image.alpha_composite(hillshade_img, tri_img)\n",
    "composite_img = Image.alpha_composite(composite_img, tpi_img)\n",
    "composite_img = Image.alpha_composite(composite_img, slope_img)"
   ]
  },
  {
   "cell_type": "code",
   "execution_count": 9,
   "metadata": {},
   "outputs": [],
   "source": [
    "result = np.array(composite_img)\n",
    "ary2d_lst = []\n",
    "for i in range(result.shape[2]):\n",
    "    ary2d_lst.append(result[:, :, i])\n",
    "\n",
    "\n",
    "\n",
    "\n",
    "NEW_FILE = os.path.join(dirname, 'CS_MAP_5M_K20.tif')\n",
    "\n",
    "driver = gdal.GetDriverByName('GTiff')\n",
    "driver.Register()\n",
    "new_dst = driver.Create(\n",
    "    NEW_FILE,\n",
    "    xsize=org_dst.RasterXSize, \n",
    "    ysize=org_dst.RasterYSize, \n",
    "    bands=4, \n",
    "    eType=gdal.GDT_Byte\n",
    ")\n",
    "\n",
    "new_dst.SetGeoTransform(org_dst.GetGeoTransform())\n",
    "new_dst.SetProjection(org_dst.GetProjection())\n",
    "set_colors = [\n",
    "    gdal.GCI_RedBand,\n",
    "    gdal.GCI_GreenBand,\n",
    "    gdal.GCI_BlueBand,\n",
    "    gdal.GCI_AlphaBand\n",
    "]\n",
    "for i, (write_img, set_color) in enumerate(zip(ary2d_lst, set_colors), start=1):\n",
    "    band = new_dst.GetRasterBand(i)\n",
    "    band.WriteArray(write_img)\n",
    "    band.SetColorInterpretation(set_color)\n",
    "\n",
    "new_dst.FlushCache()\n",
    "new_dst = None"
   ]
  },
  {
   "cell_type": "code",
   "execution_count": 10,
   "metadata": {},
   "outputs": [
    {
     "data": {
      "image/png": "[encoded data removed]",
      "text/html": [
       "<div style=\"vertical-align: middle;\"><strong>tpi</strong> </div><div class=\"cmap\"><img alt=\"tpi colormap\" title=\"tpi\" style=\"border: 1px solid #555;\" src=\"data:image/png;base64,iVBORw0KGgoAAAANSUhEUgAAAgAAAABACAYAAABsv8+/AAAAEnRFWHRUaXRsZQB0cGkgY29sb3JtYXCqYVJiAAAAGHRFWHREZXNjcmlwdGlvbgB0cGkgY29sb3JtYXCmSSA4AAAAMHRFWHRBdXRob3IATWF0cGxvdGxpYiB2My44LjQsIGh0dHBzOi8vbWF0cGxvdGxpYi5vcmdkzrK0AAAAMnRFWHRTb2Z0d2FyZQBNYXRwbG90bGliIHYzLjguNCwgaHR0cHM6Ly9tYXRwbG90bGliLm9yZ0poLZMAAAJ1SURBVHic7dZBbtswEAXQEZ322r1gTxQnUhemlIiSDKPt7r+3IUgOh5QRBH+q+v2rqqpaW6qq6jY9xjbt57epTuuu6rf5q31frL+uq+fverXvVl/n66/1nVotfbuPfT6t82Xe7/dxGs/1umnos9U/xrex37HP0O9i//C+w7vH955/x6HfUHfot91z2u+t73/c35eqqs+P+368r/P3i/V77fbv97/ts+7Xf+qzrldV1ce/9xm+93mf/nPXzzZNVVU/bq19n/+8ret93to6b/tz+/1v54a6vj/2b73u1oZ+h/5tODf02e5vZ322/l/n2n5+fv9XXRvfffq9Nff/H8tjfRvnYT6sL8f1l/osl/3b1b31/Nzz9eWi33WfdvV9V/cO370++PHDTnMvWD6nqqppmXdjzb2u79dhfzvXdutrv63/eu6z7ebz0G/Z96tt//L+3b1P7n/6vm/r+7rr+3d1/a8UAEgiAABAIAEAAAIJAAAQSAAAgEACAAAEEgAAIJAAAACBBAAACCQAAEAgAQAAAgkAABBIAACAQAIAAAQSAAAgkAAAAIEEAAAIJAAAQCABAAACCQAAEEgAAIBAAgAABBIAACCQAAAAgQQAAAgkAABAIAEAAAIJAAAQSAAAgEACAAAEEgAAIJAAAACBBAAACCQAAEAgAQAAAgkAABBIAACAQAIAAAQSAAAgkAAAAIEEAAAIJAAAQCABAAACCQAAEEgAAIBAAgAABBIAACCQAAAAgQQAAAgkAABAIAEAAAIJAAAQSAAAgEACAAAEEgAAIJAAAACBBAAACCQAAEAgAQAAAgkAABBIAACAQAIAAAQSAAAg0B8Ptp4aQWy1EgAAAABJRU5ErkJggg==\"></div><div style=\"vertical-align: middle; max-width: 514px; display: flex; justify-content: space-between;\"><div style=\"float: left;\"><div title=\"#0000cd80\" style=\"display: inline-block; width: 1em; height: 1em; margin: 0; vertical-align: middle; border: 1px solid #555; background-color: #0000cd80;\"></div> under</div><div style=\"margin: 0 auto; display: inline-block;\">bad <div title=\"#00000000\" style=\"display: inline-block; width: 1em; height: 1em; margin: 0; vertical-align: middle; border: 1px solid #555; background-color: #00000000;\"></div></div><div style=\"float: right;\">over <div title=\"#ff00008c\" style=\"display: inline-block; width: 1em; height: 1em; margin: 0; vertical-align: middle; border: 1px solid #555; background-color: #ff00008c;\"></div></div>"
      ],
      "text/plain": [
       "<matplotlib.colors.LinearSegmentedColormap at 0x234e44b55d0>"
      ]
     },
     "execution_count": 10,
     "metadata": {},
     "output_type": "execute_result"
    }
   ],
   "source": [
    "from matplotlib.colors import LinearSegmentedColormap\n",
    "\n",
    "LinearSegmentedColormap.from_list(\n",
    "    name='tpi',\n",
    "    colors=[[0.0, 0.0, 0.8039, 0.5],\n",
    "            [0.0, 0.4392, 1.0, 0.35],\n",
    "            [0.5059, 0.7216, 0.8706, 0.15],\n",
    "            [0.0, 0.0, 0.0, 0.0],\n",
    "            [0.9294, 0.4275, 0.2078, 0.20],\n",
    "            [0.9059, 0.2078, 0.3843, 0.35],\n",
    "            [0.902, 0.0, 0.0, 0.55]],\n",
    "    N=256\n",
    ")"
   ]
  },
  {
   "cell_type": "code",
   "execution_count": 17,
   "metadata": {},
   "outputs": [
    {
     "data": {
      "image/png": "[encoded data removed]",
      "text/html": [
       "<div style=\"vertical-align: middle;\"><strong>tpi</strong> </div><div class=\"cmap\"><img alt=\"tpi colormap\" title=\"tpi\" style=\"border: 1px solid #555;\" src=\"data:image/png;base64,iVBORw0KGgoAAAANSUhEUgAAAgAAAABACAYAAABsv8+/AAAAEnRFWHRUaXRsZQB0cGkgY29sb3JtYXCqYVJiAAAAGHRFWHREZXNjcmlwdGlvbgB0cGkgY29sb3JtYXCmSSA4AAAAMHRFWHRBdXRob3IATWF0cGxvdGxpYiB2My44LjQsIGh0dHBzOi8vbWF0cGxvdGxpYi5vcmdkzrK0AAAAMnRFWHRTb2Z0d2FyZQBNYXRwbG90bGliIHYzLjguNCwgaHR0cHM6Ly9tYXRwbG90bGliLm9yZ0poLZMAAAGMSURBVHic7dZLcsIwFABBnPvfGISywEAwymed6d6oZJknKDazzTlPdD3+/+tluc77fly2H8+f67Z8Pt4+t5y3mLut5vz53uPcb37H6Xre5477fn9vrM/HeX8+9nsf+5f37/t5nDfezl/mLT5/nH+7d6zv+/J9l/Me53Pezp+2X1bv/e/3rKH14wQA5AgAAAgSAAAQJAAAIEgAAECQAACAIAEAAEECAACCBAAABAkAAAgSAAAQJAAAIEgAAECQAACAIAEAAEECAACCBAAABAkAAAgSAAAQJAAAIEgAAECQAACAIAEAAEECAACCBAAABAkAAAgSAAAQJAAAIEgAAECQAACAIAEAAEECAACCBAAABAkAAAgSAAAQJAAAIEgAAECQAACAIAEAAEECAACCBAAABAkAAAgSAAAQJAAAIEgAAECQAACAIAEAAEECAACCBAAABAkAAAgSAAAQJAAAIEgAAECQAACAIAEAAEECAACCBAAABAkAAAgSAAAQJAAAIEgAAECQAACAIAEAAEGflnqWZGq5H/sAAAAASUVORK5CYII=\"></div><div style=\"vertical-align: middle; max-width: 514px; display: flex; justify-content: space-between;\"><div style=\"float: left;\"><div title=\"#ffffff00\" style=\"display: inline-block; width: 1em; height: 1em; margin: 0; vertical-align: middle; border: 1px solid #555; background-color: #ffffff00;\"></div> under</div><div style=\"margin: 0 auto; display: inline-block;\">bad <div title=\"#00000000\" style=\"display: inline-block; width: 1em; height: 1em; margin: 0; vertical-align: middle; border: 1px solid #555; background-color: #00000000;\"></div></div><div style=\"float: right;\">over <div title=\"#ee780080\" style=\"display: inline-block; width: 1em; height: 1em; margin: 0; vertical-align: middle; border: 1px solid #555; background-color: #ee780080;\"></div></div>"
      ],
      "text/plain": [
       "<matplotlib.colors.LinearSegmentedColormap at 0x234e08e1010>"
      ]
     },
     "execution_count": 17,
     "metadata": {},
     "output_type": "execute_result"
    }
   ],
   "source": [
    "LinearSegmentedColormap.from_list(\n",
    "    name='tpi',\n",
    "    colors=[[1.0, 1.0, 1.0, 0.0],\n",
    "            [1.0, 1.0, 1.0, 0.0],\n",
    "            [0.9333, 0.4706, 0.0, 0.05],\n",
    "            [0.9333, 0.4706, 0.0, 0.25],\n",
    "            [0.9333, 0.4706, 0.0, 0.5]],\n",
    "    N=256\n",
    ")"
   ]
  },
  {
   "cell_type": "code",
   "execution_count": 16,
   "metadata": {},
   "outputs": [
    {
     "data": {
      "text/plain": [
       "[0.9333, 0.4706, 0.0, 1.0]"
      ]
     },
     "execution_count": 16,
     "metadata": {},
     "output_type": "execute_result"
    }
   ],
   "source": [
    "from matplotlib.colors import to_rgba\n",
    "\n",
    "[round(v , 4) for v in to_rgba('#ee7800')]"
   ]
  },
  {
   "cell_type": "code",
   "execution_count": null,
   "metadata": {},
   "outputs": [],
   "source": []
  }
 ],
 "metadata": {
  "kernelspec": {
   "display_name": "geome",
   "language": "python",
   "name": "python3"
  },
  "language_info": {
   "codemirror_mode": {
    "name": "ipython",
    "version": 3
   },
   "file_extension": ".py",
   "mimetype": "text/x-python",
   "name": "python",
   "nbconvert_exporter": "python",
   "pygments_lexer": "ipython3",
   "version": "3.12.4"
  }
 },
 "nbformat": 4,
 "nbformat_minor": 2
}
